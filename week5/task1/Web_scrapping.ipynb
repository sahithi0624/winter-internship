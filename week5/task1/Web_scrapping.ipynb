{
  "nbformat": 4,
  "nbformat_minor": 0,
  "metadata": {
    "colab": {
      "provenance": [],
      "include_colab_link": true
    },
    "kernelspec": {
      "name": "python3",
      "display_name": "Python 3"
    },
    "language_info": {
      "name": "python"
    }
  },
  "cells": [
    {
      "cell_type": "markdown",
      "metadata": {
        "id": "view-in-github",
        "colab_type": "text"
      },
      "source": [
        "<a href=\"https://colab.research.google.com/github/sahithi0624/winter-internship/blob/main/week5/task1/Web_scrapping.ipynb\" target=\"_parent\"><img src=\"https://colab.research.google.com/assets/colab-badge.svg\" alt=\"Open In Colab\"/></a>"
      ]
    },
    {
      "cell_type": "markdown",
      "source": [
        "Extract data from Wikipedia :\n",
        "India - All sates\n",
        "\n",
        "Bollywood Movies  wikipedia page:\n",
        "\n"
      ],
      "metadata": {
        "id": "iBfIeJcKtoQj"
      }
    },
    {
      "cell_type": "code",
      "source": [],
      "metadata": {
        "id": "0GtKCdiTtnZn"
      },
      "execution_count": null,
      "outputs": []
    },
    {
      "cell_type": "code",
      "execution_count": 1,
      "metadata": {
        "id": "IPmP4eQtremO"
      },
      "outputs": [],
      "source": [
        "import requests\n",
        "import pandas as pd\n",
        "from bs4 import BeautifulSoup\n",
        "from tabulate import tabulate"
      ]
    },
    {
      "cell_type": "code",
      "source": [
        "url = 'http://books.toscrape.com/'\n",
        "\n",
        "response = requests.get(url)\n",
        "response"
      ],
      "metadata": {
        "colab": {
          "base_uri": "https://localhost:8080/"
        },
        "id": "VwAigJ5Bsra8",
        "outputId": "5dc9619e-25b5-497b-9be9-c8a439b658d6"
      },
      "execution_count": 2,
      "outputs": [
        {
          "output_type": "execute_result",
          "data": {
            "text/plain": [
              "<Response [200]>"
            ]
          },
          "metadata": {},
          "execution_count": 2
        }
      ]
    },
    {
      "cell_type": "code",
      "source": [
        "response.status_code"
      ],
      "metadata": {
        "colab": {
          "base_uri": "https://localhost:8080/"
        },
        "id": "M8rk4Lhytctv",
        "outputId": "39404ffe-8b1c-43d9-e09a-6f6e281c38bf"
      },
      "execution_count": 3,
      "outputs": [
        {
          "output_type": "execute_result",
          "data": {
            "text/plain": [
              "200"
            ]
          },
          "metadata": {},
          "execution_count": 3
        }
      ]
    },
    {
      "cell_type": "code",
      "source": [
        "type(response)"
      ],
      "metadata": {
        "colab": {
          "base_uri": "https://localhost:8080/"
        },
        "id": "hsxAu29PuYjY",
        "outputId": "5b819a71-29bb-4ede-86fb-c9c69fed8e3a"
      },
      "execution_count": 4,
      "outputs": [
        {
          "output_type": "execute_result",
          "data": {
            "text/plain": [
              "requests.models.Response"
            ]
          },
          "metadata": {},
          "execution_count": 4
        }
      ]
    },
    {
      "cell_type": "code",
      "source": [
        "print(response.text[:1000])"
      ],
      "metadata": {
        "colab": {
          "base_uri": "https://localhost:8080/"
        },
        "id": "4IPTBHsetiWl",
        "outputId": "893ecfe7-3abd-4833-ce0c-956469883a7f"
      },
      "execution_count": 5,
      "outputs": [
        {
          "output_type": "stream",
          "name": "stdout",
          "text": [
            "<!DOCTYPE html>\n",
            "<!--[if lt IE 7]>      <html lang=\"en-us\" class=\"no-js lt-ie9 lt-ie8 lt-ie7\"> <![endif]-->\n",
            "<!--[if IE 7]>         <html lang=\"en-us\" class=\"no-js lt-ie9 lt-ie8\"> <![endif]-->\n",
            "<!--[if IE 8]>         <html lang=\"en-us\" class=\"no-js lt-ie9\"> <![endif]-->\n",
            "<!--[if gt IE 8]><!--> <html lang=\"en-us\" class=\"no-js\"> <!--<![endif]-->\n",
            "    <head>\n",
            "        <title>\n",
            "    All products | Books to Scrape - Sandbox\n",
            "</title>\n",
            "\n",
            "        <meta http-equiv=\"content-type\" content=\"text/html; charset=UTF-8\" />\n",
            "        <meta name=\"created\" content=\"24th Jun 2016 09:29\" />\n",
            "        <meta name=\"description\" content=\"\" />\n",
            "        <meta name=\"viewport\" content=\"width=device-width\" />\n",
            "        <meta name=\"robots\" content=\"NOARCHIVE,NOCACHE\" />\n",
            "\n",
            "        <!-- Le HTML5 shim, for IE6-8 support of HTML elements -->\n",
            "        <!--[if lt IE 9]>\n",
            "        <script src=\"//html5shim.googlecode.com/svn/trunk/html5.js\"></script>\n",
            "        <![endif]-->\n",
            "\n",
            "        \n",
            "            <link rel=\"shortcut icon\" href=\"static/oscar/favicon.\n"
          ]
        }
      ]
    },
    {
      "cell_type": "code",
      "source": [
        "def scrape_books_from_page(url):\n",
        "    response = requests.get(url)\n",
        "    soup = BeautifulSoup(response.content, 'html.parser')\n",
        "    b_data = []\n",
        "    for article in soup.find_all('article', class_='product_pod'):\n",
        "        title = article.h3.a['title'].strip()\n",
        "        price = article.find('p', class_='price_color').get_text().strip()\n",
        "        rating = article.p['class'][1].strip()\n",
        "        link = url.rsplit('/', 1)[0] + '/' + article.h3.a['href'].strip()\n",
        "        b_data.append({'Title': title, 'Rating': rating, 'Price': price, 'Link': link})\n",
        "    return b_data"
      ],
      "metadata": {
        "id": "N_UaD2Wk8yR9"
      },
      "execution_count": 6,
      "outputs": []
    },
    {
      "cell_type": "code",
      "source": [
        "def scrape_books(pages=5):\n",
        "    base_url = 'http://books.toscrape.com/catalogue/page-{}.html'\n",
        "    b_data = []\n",
        "    for page_number in range(1, pages + 1):\n",
        "        url = base_url.format(page_number)\n",
        "        page_books_data = scrape_books_from_page(url)\n",
        "        b_data.extend(page_books_data)\n",
        "    return b_data"
      ],
      "metadata": {
        "id": "MH1mETym9ESU"
      },
      "execution_count": 7,
      "outputs": []
    },
    {
      "cell_type": "code",
      "source": [
        "books = scrape_books(pages=1)\n",
        "book_df = pd.DataFrame(books)"
      ],
      "metadata": {
        "id": "gcAT0eeB9Ssr"
      },
      "execution_count": 8,
      "outputs": []
    },
    {
      "cell_type": "code",
      "source": [
        "print(tabulate(book_df, headers='keys', tablefmt='psql'))"
      ],
      "metadata": {
        "colab": {
          "base_uri": "https://localhost:8080/"
        },
        "id": "CNFohEuD-6ec",
        "outputId": "343c142a-3844-40c7-bc58-0d0fb6a809f3"
      },
      "execution_count": 9,
      "outputs": [
        {
          "output_type": "stream",
          "name": "stdout",
          "text": [
            "+----+------------------------------------------------------------------------------------------------+----------+---------+--------------------------------------------------------------------------------------------------------------------------------------------------+\n",
            "|    | Title                                                                                          | Rating   | Price   | Link                                                                                                                                             |\n",
            "|----+------------------------------------------------------------------------------------------------+----------+---------+--------------------------------------------------------------------------------------------------------------------------------------------------|\n",
            "|  0 | A Light in the Attic                                                                           | Three    | £51.77  | http://books.toscrape.com/catalogue/a-light-in-the-attic_1000/index.html                                                                         |\n",
            "|  1 | Tipping the Velvet                                                                             | One      | £53.74  | http://books.toscrape.com/catalogue/tipping-the-velvet_999/index.html                                                                            |\n",
            "|  2 | Soumission                                                                                     | One      | £50.10  | http://books.toscrape.com/catalogue/soumission_998/index.html                                                                                    |\n",
            "|  3 | Sharp Objects                                                                                  | Four     | £47.82  | http://books.toscrape.com/catalogue/sharp-objects_997/index.html                                                                                 |\n",
            "|  4 | Sapiens: A Brief History of Humankind                                                          | Five     | £54.23  | http://books.toscrape.com/catalogue/sapiens-a-brief-history-of-humankind_996/index.html                                                          |\n",
            "|  5 | The Requiem Red                                                                                | One      | £22.65  | http://books.toscrape.com/catalogue/the-requiem-red_995/index.html                                                                               |\n",
            "|  6 | The Dirty Little Secrets of Getting Your Dream Job                                             | Four     | £33.34  | http://books.toscrape.com/catalogue/the-dirty-little-secrets-of-getting-your-dream-job_994/index.html                                            |\n",
            "|  7 | The Coming Woman: A Novel Based on the Life of the Infamous Feminist, Victoria Woodhull        | Three    | £17.93  | http://books.toscrape.com/catalogue/the-coming-woman-a-novel-based-on-the-life-of-the-infamous-feminist-victoria-woodhull_993/index.html         |\n",
            "|  8 | The Boys in the Boat: Nine Americans and Their Epic Quest for Gold at the 1936 Berlin Olympics | Four     | £22.60  | http://books.toscrape.com/catalogue/the-boys-in-the-boat-nine-americans-and-their-epic-quest-for-gold-at-the-1936-berlin-olympics_992/index.html |\n",
            "|  9 | The Black Maria                                                                                | One      | £52.15  | http://books.toscrape.com/catalogue/the-black-maria_991/index.html                                                                               |\n",
            "| 10 | Starving Hearts (Triangular Trade Trilogy, #1)                                                 | Two      | £13.99  | http://books.toscrape.com/catalogue/starving-hearts-triangular-trade-trilogy-1_990/index.html                                                    |\n",
            "| 11 | Shakespeare's Sonnets                                                                          | Four     | £20.66  | http://books.toscrape.com/catalogue/shakespeares-sonnets_989/index.html                                                                          |\n",
            "| 12 | Set Me Free                                                                                    | Five     | £17.46  | http://books.toscrape.com/catalogue/set-me-free_988/index.html                                                                                   |\n",
            "| 13 | Scott Pilgrim's Precious Little Life (Scott Pilgrim #1)                                        | Five     | £52.29  | http://books.toscrape.com/catalogue/scott-pilgrims-precious-little-life-scott-pilgrim-1_987/index.html                                           |\n",
            "| 14 | Rip it Up and Start Again                                                                      | Five     | £35.02  | http://books.toscrape.com/catalogue/rip-it-up-and-start-again_986/index.html                                                                     |\n",
            "| 15 | Our Band Could Be Your Life: Scenes from the American Indie Underground, 1981-1991             | Three    | £57.25  | http://books.toscrape.com/catalogue/our-band-could-be-your-life-scenes-from-the-american-indie-underground-1981-1991_985/index.html              |\n",
            "| 16 | Olio                                                                                           | One      | £23.88  | http://books.toscrape.com/catalogue/olio_984/index.html                                                                                          |\n",
            "| 17 | Mesaerion: The Best Science Fiction Stories 1800-1849                                          | One      | £37.59  | http://books.toscrape.com/catalogue/mesaerion-the-best-science-fiction-stories-1800-1849_983/index.html                                          |\n",
            "| 18 | Libertarianism for Beginners                                                                   | Two      | £51.33  | http://books.toscrape.com/catalogue/libertarianism-for-beginners_982/index.html                                                                  |\n",
            "| 19 | It's Only the Himalayas                                                                        | Two      | £45.17  | http://books.toscrape.com/catalogue/its-only-the-himalayas_981/index.html                                                                        |\n",
            "+----+------------------------------------------------------------------------------------------------+----------+---------+--------------------------------------------------------------------------------------------------------------------------------------------------+\n"
          ]
        }
      ]
    },
    {
      "cell_type": "code",
      "source": [
        "books_data = scrape_books(pages=5)\n",
        "books_df = pd.DataFrame(books_data)\n",
        "print(tabulate(books_df, headers='keys', tablefmt='psql'))"
      ],
      "metadata": {
        "colab": {
          "base_uri": "https://localhost:8080/"
        },
        "id": "OVNxczMy_CTT",
        "outputId": "2fd3d69a-af6c-4cdf-cce5-aaaca7ba6194"
      },
      "execution_count": 10,
      "outputs": [
        {
          "output_type": "stream",
          "name": "stdout",
          "text": [
            "+----+---------------------------------------------------------------------------------------------------------------------------------------------------------------------------------+----------+---------+--------------------------------------------------------------------------------------------------------------------------------------------------------------------------------------------------------------------------+\n",
            "|    | Title                                                                                                                                                                           | Rating   | Price   | Link                                                                                                                                                                                                                     |\n",
            "|----+---------------------------------------------------------------------------------------------------------------------------------------------------------------------------------+----------+---------+--------------------------------------------------------------------------------------------------------------------------------------------------------------------------------------------------------------------------|\n",
            "|  0 | A Light in the Attic                                                                                                                                                            | Three    | £51.77  | http://books.toscrape.com/catalogue/a-light-in-the-attic_1000/index.html                                                                                                                                                 |\n",
            "|  1 | Tipping the Velvet                                                                                                                                                              | One      | £53.74  | http://books.toscrape.com/catalogue/tipping-the-velvet_999/index.html                                                                                                                                                    |\n",
            "|  2 | Soumission                                                                                                                                                                      | One      | £50.10  | http://books.toscrape.com/catalogue/soumission_998/index.html                                                                                                                                                            |\n",
            "|  3 | Sharp Objects                                                                                                                                                                   | Four     | £47.82  | http://books.toscrape.com/catalogue/sharp-objects_997/index.html                                                                                                                                                         |\n",
            "|  4 | Sapiens: A Brief History of Humankind                                                                                                                                           | Five     | £54.23  | http://books.toscrape.com/catalogue/sapiens-a-brief-history-of-humankind_996/index.html                                                                                                                                  |\n",
            "|  5 | The Requiem Red                                                                                                                                                                 | One      | £22.65  | http://books.toscrape.com/catalogue/the-requiem-red_995/index.html                                                                                                                                                       |\n",
            "|  6 | The Dirty Little Secrets of Getting Your Dream Job                                                                                                                              | Four     | £33.34  | http://books.toscrape.com/catalogue/the-dirty-little-secrets-of-getting-your-dream-job_994/index.html                                                                                                                    |\n",
            "|  7 | The Coming Woman: A Novel Based on the Life of the Infamous Feminist, Victoria Woodhull                                                                                         | Three    | £17.93  | http://books.toscrape.com/catalogue/the-coming-woman-a-novel-based-on-the-life-of-the-infamous-feminist-victoria-woodhull_993/index.html                                                                                 |\n",
            "|  8 | The Boys in the Boat: Nine Americans and Their Epic Quest for Gold at the 1936 Berlin Olympics                                                                                  | Four     | £22.60  | http://books.toscrape.com/catalogue/the-boys-in-the-boat-nine-americans-and-their-epic-quest-for-gold-at-the-1936-berlin-olympics_992/index.html                                                                         |\n",
            "|  9 | The Black Maria                                                                                                                                                                 | One      | £52.15  | http://books.toscrape.com/catalogue/the-black-maria_991/index.html                                                                                                                                                       |\n",
            "| 10 | Starving Hearts (Triangular Trade Trilogy, #1)                                                                                                                                  | Two      | £13.99  | http://books.toscrape.com/catalogue/starving-hearts-triangular-trade-trilogy-1_990/index.html                                                                                                                            |\n",
            "| 11 | Shakespeare's Sonnets                                                                                                                                                           | Four     | £20.66  | http://books.toscrape.com/catalogue/shakespeares-sonnets_989/index.html                                                                                                                                                  |\n",
            "| 12 | Set Me Free                                                                                                                                                                     | Five     | £17.46  | http://books.toscrape.com/catalogue/set-me-free_988/index.html                                                                                                                                                           |\n",
            "| 13 | Scott Pilgrim's Precious Little Life (Scott Pilgrim #1)                                                                                                                         | Five     | £52.29  | http://books.toscrape.com/catalogue/scott-pilgrims-precious-little-life-scott-pilgrim-1_987/index.html                                                                                                                   |\n",
            "| 14 | Rip it Up and Start Again                                                                                                                                                       | Five     | £35.02  | http://books.toscrape.com/catalogue/rip-it-up-and-start-again_986/index.html                                                                                                                                             |\n",
            "| 15 | Our Band Could Be Your Life: Scenes from the American Indie Underground, 1981-1991                                                                                              | Three    | £57.25  | http://books.toscrape.com/catalogue/our-band-could-be-your-life-scenes-from-the-american-indie-underground-1981-1991_985/index.html                                                                                      |\n",
            "| 16 | Olio                                                                                                                                                                            | One      | £23.88  | http://books.toscrape.com/catalogue/olio_984/index.html                                                                                                                                                                  |\n",
            "| 17 | Mesaerion: The Best Science Fiction Stories 1800-1849                                                                                                                           | One      | £37.59  | http://books.toscrape.com/catalogue/mesaerion-the-best-science-fiction-stories-1800-1849_983/index.html                                                                                                                  |\n",
            "| 18 | Libertarianism for Beginners                                                                                                                                                    | Two      | £51.33  | http://books.toscrape.com/catalogue/libertarianism-for-beginners_982/index.html                                                                                                                                          |\n",
            "| 19 | It's Only the Himalayas                                                                                                                                                         | Two      | £45.17  | http://books.toscrape.com/catalogue/its-only-the-himalayas_981/index.html                                                                                                                                                |\n",
            "| 20 | In Her Wake                                                                                                                                                                     | One      | £12.84  | http://books.toscrape.com/catalogue/in-her-wake_980/index.html                                                                                                                                                           |\n",
            "| 21 | How Music Works                                                                                                                                                                 | Two      | £37.32  | http://books.toscrape.com/catalogue/how-music-works_979/index.html                                                                                                                                                       |\n",
            "| 22 | Foolproof Preserving: A Guide to Small Batch Jams, Jellies, Pickles, Condiments, and More: A Foolproof Guide to Making Small Batch Jams, Jellies, Pickles, Condiments, and More | Three    | £30.52  | http://books.toscrape.com/catalogue/foolproof-preserving-a-guide-to-small-batch-jams-jellies-pickles-condiments-and-more-a-foolproof-guide-to-making-small-batch-jams-jellies-pickles-condiments-and-more_978/index.html |\n",
            "| 23 | Chase Me (Paris Nights #2)                                                                                                                                                      | Five     | £25.27  | http://books.toscrape.com/catalogue/chase-me-paris-nights-2_977/index.html                                                                                                                                               |\n",
            "| 24 | Black Dust                                                                                                                                                                      | Five     | £34.53  | http://books.toscrape.com/catalogue/black-dust_976/index.html                                                                                                                                                            |\n",
            "| 25 | Birdsong: A Story in Pictures                                                                                                                                                   | Three    | £54.64  | http://books.toscrape.com/catalogue/birdsong-a-story-in-pictures_975/index.html                                                                                                                                          |\n",
            "| 26 | America's Cradle of Quarterbacks: Western Pennsylvania's Football Factory from Johnny Unitas to Joe Montana                                                                     | Three    | £22.50  | http://books.toscrape.com/catalogue/americas-cradle-of-quarterbacks-western-pennsylvanias-football-factory-from-johnny-unitas-to-joe-montana_974/index.html                                                              |\n",
            "| 27 | Aladdin and His Wonderful Lamp                                                                                                                                                  | Three    | £53.13  | http://books.toscrape.com/catalogue/aladdin-and-his-wonderful-lamp_973/index.html                                                                                                                                        |\n",
            "| 28 | Worlds Elsewhere: Journeys Around Shakespeare’s Globe                                                                                                                           | Five     | £40.30  | http://books.toscrape.com/catalogue/worlds-elsewhere-journeys-around-shakespeares-globe_972/index.html                                                                                                                   |\n",
            "| 29 | Wall and Piece                                                                                                                                                                  | Four     | £44.18  | http://books.toscrape.com/catalogue/wall-and-piece_971/index.html                                                                                                                                                        |\n",
            "| 30 | The Four Agreements: A Practical Guide to Personal Freedom                                                                                                                      | Five     | £17.66  | http://books.toscrape.com/catalogue/the-four-agreements-a-practical-guide-to-personal-freedom_970/index.html                                                                                                             |\n",
            "| 31 | The Five Love Languages: How to Express Heartfelt Commitment to Your Mate                                                                                                       | Three    | £31.05  | http://books.toscrape.com/catalogue/the-five-love-languages-how-to-express-heartfelt-commitment-to-your-mate_969/index.html                                                                                              |\n",
            "| 32 | The Elephant Tree                                                                                                                                                               | Five     | £23.82  | http://books.toscrape.com/catalogue/the-elephant-tree_968/index.html                                                                                                                                                     |\n",
            "| 33 | The Bear and the Piano                                                                                                                                                          | One      | £36.89  | http://books.toscrape.com/catalogue/the-bear-and-the-piano_967/index.html                                                                                                                                                |\n",
            "| 34 | Sophie's World                                                                                                                                                                  | Five     | £15.94  | http://books.toscrape.com/catalogue/sophies-world_966/index.html                                                                                                                                                         |\n",
            "| 35 | Penny Maybe                                                                                                                                                                     | Three    | £33.29  | http://books.toscrape.com/catalogue/penny-maybe_965/index.html                                                                                                                                                           |\n",
            "| 36 | Maude (1883-1993):She Grew Up with the country                                                                                                                                  | Two      | £18.02  | http://books.toscrape.com/catalogue/maude-1883-1993she-grew-up-with-the-country_964/index.html                                                                                                                           |\n",
            "| 37 | In a Dark, Dark Wood                                                                                                                                                            | One      | £19.63  | http://books.toscrape.com/catalogue/in-a-dark-dark-wood_963/index.html                                                                                                                                                   |\n",
            "| 38 | Behind Closed Doors                                                                                                                                                             | Four     | £52.22  | http://books.toscrape.com/catalogue/behind-closed-doors_962/index.html                                                                                                                                                   |\n",
            "| 39 | You can't bury them all: Poems                                                                                                                                                  | Two      | £33.63  | http://books.toscrape.com/catalogue/you-cant-bury-them-all-poems_961/index.html                                                                                                                                          |\n",
            "| 40 | Slow States of Collapse: Poems                                                                                                                                                  | Three    | £57.31  | http://books.toscrape.com/catalogue/slow-states-of-collapse-poems_960/index.html                                                                                                                                         |\n",
            "| 41 | Reasons to Stay Alive                                                                                                                                                           | Two      | £26.41  | http://books.toscrape.com/catalogue/reasons-to-stay-alive_959/index.html                                                                                                                                                 |\n",
            "| 42 | Private Paris (Private #10)                                                                                                                                                     | Five     | £47.61  | http://books.toscrape.com/catalogue/private-paris-private-10_958/index.html                                                                                                                                              |\n",
            "| 43 | #HigherSelfie: Wake Up Your Life. Free Your Soul. Find Your Tribe.                                                                                                              | Five     | £23.11  | http://books.toscrape.com/catalogue/higherselfie-wake-up-your-life-free-your-soul-find-your-tribe_957/index.html                                                                                                         |\n",
            "| 44 | Without Borders (Wanderlove #1)                                                                                                                                                 | Two      | £45.07  | http://books.toscrape.com/catalogue/without-borders-wanderlove-1_956/index.html                                                                                                                                          |\n",
            "| 45 | When We Collided                                                                                                                                                                | One      | £31.77  | http://books.toscrape.com/catalogue/when-we-collided_955/index.html                                                                                                                                                      |\n",
            "| 46 | We Love You, Charlie Freeman                                                                                                                                                    | Five     | £50.27  | http://books.toscrape.com/catalogue/we-love-you-charlie-freeman_954/index.html                                                                                                                                           |\n",
            "| 47 | Untitled Collection: Sabbath Poems 2014                                                                                                                                         | Four     | £14.27  | http://books.toscrape.com/catalogue/untitled-collection-sabbath-poems-2014_953/index.html                                                                                                                                |\n",
            "| 48 | Unseen City: The Majesty of Pigeons, the Discreet Charm of Snails & Other Wonders of the Urban Wilderness                                                                       | Four     | £44.18  | http://books.toscrape.com/catalogue/unseen-city-the-majesty-of-pigeons-the-discreet-charm-of-snails-other-wonders-of-the-urban-wilderness_952/index.html                                                                 |\n",
            "| 49 | Unicorn Tracks                                                                                                                                                                  | Three    | £18.78  | http://books.toscrape.com/catalogue/unicorn-tracks_951/index.html                                                                                                                                                        |\n",
            "| 50 | Unbound: How Eight Technologies Made Us Human, Transformed Society, and Brought Our World to the Brink                                                                          | One      | £25.52  | http://books.toscrape.com/catalogue/unbound-how-eight-technologies-made-us-human-transformed-society-and-brought-our-world-to-the-brink_950/index.html                                                                   |\n",
            "| 51 | Tsubasa: WoRLD CHRoNiCLE 2 (Tsubasa WoRLD CHRoNiCLE #2)                                                                                                                         | One      | £16.28  | http://books.toscrape.com/catalogue/tsubasa-world-chronicle-2-tsubasa-world-chronicle-2_949/index.html                                                                                                                   |\n",
            "| 52 | Throwing Rocks at the Google Bus: How Growth Became the Enemy of Prosperity                                                                                                     | Three    | £31.12  | http://books.toscrape.com/catalogue/throwing-rocks-at-the-google-bus-how-growth-became-the-enemy-of-prosperity_948/index.html                                                                                            |\n",
            "| 53 | This One Summer                                                                                                                                                                 | Four     | £19.49  | http://books.toscrape.com/catalogue/this-one-summer_947/index.html                                                                                                                                                       |\n",
            "| 54 | Thirst                                                                                                                                                                          | Five     | £17.27  | http://books.toscrape.com/catalogue/thirst_946/index.html                                                                                                                                                                |\n",
            "| 55 | The Torch Is Passed: A Harding Family Story                                                                                                                                     | One      | £19.09  | http://books.toscrape.com/catalogue/the-torch-is-passed-a-harding-family-story_945/index.html                                                                                                                            |\n",
            "| 56 | The Secret of Dreadwillow Carse                                                                                                                                                 | One      | £56.13  | http://books.toscrape.com/catalogue/the-secret-of-dreadwillow-carse_944/index.html                                                                                                                                       |\n",
            "| 57 | The Pioneer Woman Cooks: Dinnertime: Comfort Classics, Freezer Food, 16-Minute Meals, and Other Delicious Ways to Solve Supper!                                                 | One      | £56.41  | http://books.toscrape.com/catalogue/the-pioneer-woman-cooks-dinnertime-comfort-classics-freezer-food-16-minute-meals-and-other-delicious-ways-to-solve-supper_943/index.html                                             |\n",
            "| 58 | The Past Never Ends                                                                                                                                                             | Four     | £56.50  | http://books.toscrape.com/catalogue/the-past-never-ends_942/index.html                                                                                                                                                   |\n",
            "| 59 | The Natural History of Us (The Fine Art of Pretending #2)                                                                                                                       | Three    | £45.22  | http://books.toscrape.com/catalogue/the-natural-history-of-us-the-fine-art-of-pretending-2_941/index.html                                                                                                                |\n",
            "| 60 | The Nameless City (The Nameless City #1)                                                                                                                                        | Four     | £38.16  | http://books.toscrape.com/catalogue/the-nameless-city-the-nameless-city-1_940/index.html                                                                                                                                 |\n",
            "| 61 | The Murder That Never Was (Forensic Instincts #5)                                                                                                                               | Three    | £54.11  | http://books.toscrape.com/catalogue/the-murder-that-never-was-forensic-instincts-5_939/index.html                                                                                                                        |\n",
            "| 62 | The Most Perfect Thing: Inside (and Outside) a Bird's Egg                                                                                                                       | Four     | £42.96  | http://books.toscrape.com/catalogue/the-most-perfect-thing-inside-and-outside-a-birds-egg_938/index.html                                                                                                                 |\n",
            "| 63 | The Mindfulness and Acceptance Workbook for Anxiety: A Guide to Breaking Free from Anxiety, Phobias, and Worry Using Acceptance and Commitment Therapy                          | Four     | £23.89  | http://books.toscrape.com/catalogue/the-mindfulness-and-acceptance-workbook-for-anxiety-a-guide-to-breaking-free-from-anxiety-phobias-and-worry-using-acceptance-and-commitment-therapy_937/index.html                   |\n",
            "| 64 | The Life-Changing Magic of Tidying Up: The Japanese Art of Decluttering and Organizing                                                                                          | Three    | £16.77  | http://books.toscrape.com/catalogue/the-life-changing-magic-of-tidying-up-the-japanese-art-of-decluttering-and-organizing_936/index.html                                                                                 |\n",
            "| 65 | The Inefficiency Assassin: Time Management Tactics for Working Smarter, Not Longer                                                                                              | Five     | £20.59  | http://books.toscrape.com/catalogue/the-inefficiency-assassin-time-management-tactics-for-working-smarter-not-longer_935/index.html                                                                                      |\n",
            "| 66 | The Gutsy Girl: Escapades for Your Life of Epic Adventure                                                                                                                       | One      | £37.13  | http://books.toscrape.com/catalogue/the-gutsy-girl-escapades-for-your-life-of-epic-adventure_934/index.html                                                                                                              |\n",
            "| 67 | The Electric Pencil: Drawings from Inside State Hospital No. 3                                                                                                                  | One      | £56.06  | http://books.toscrape.com/catalogue/the-electric-pencil-drawings-from-inside-state-hospital-no-3_933/index.html                                                                                                          |\n",
            "| 68 | The Death of Humanity: and the Case for Life                                                                                                                                    | Four     | £58.11  | http://books.toscrape.com/catalogue/the-death-of-humanity-and-the-case-for-life_932/index.html                                                                                                                           |\n",
            "| 69 | The Bulletproof Diet: Lose up to a Pound a Day, Reclaim Energy and Focus, Upgrade Your Life                                                                                     | Three    | £49.05  | http://books.toscrape.com/catalogue/the-bulletproof-diet-lose-up-to-a-pound-a-day-reclaim-energy-and-focus-upgrade-your-life_931/index.html                                                                              |\n",
            "| 70 | The Art Forger                                                                                                                                                                  | Three    | £40.76  | http://books.toscrape.com/catalogue/the-art-forger_930/index.html                                                                                                                                                        |\n",
            "| 71 | The Age of Genius: The Seventeenth Century and the Birth of the Modern Mind                                                                                                     | One      | £19.73  | http://books.toscrape.com/catalogue/the-age-of-genius-the-seventeenth-century-and-the-birth-of-the-modern-mind_929/index.html                                                                                            |\n",
            "| 72 | The Activist's Tao Te Ching: Ancient Advice for a Modern Revolution                                                                                                             | Five     | £32.24  | http://books.toscrape.com/catalogue/the-activists-tao-te-ching-ancient-advice-for-a-modern-revolution_928/index.html                                                                                                     |\n",
            "| 73 | Spark Joy: An Illustrated Master Class on the Art of Organizing and Tidying Up                                                                                                  | Four     | £41.83  | http://books.toscrape.com/catalogue/spark-joy-an-illustrated-master-class-on-the-art-of-organizing-and-tidying-up_927/index.html                                                                                         |\n",
            "| 74 | Soul Reader                                                                                                                                                                     | Two      | £39.58  | http://books.toscrape.com/catalogue/soul-reader_926/index.html                                                                                                                                                           |\n",
            "| 75 | Security                                                                                                                                                                        | Two      | £39.25  | http://books.toscrape.com/catalogue/security_925/index.html                                                                                                                                                              |\n",
            "| 76 | Saga, Volume 6 (Saga (Collected Editions) #6)                                                                                                                                   | Three    | £25.02  | http://books.toscrape.com/catalogue/saga-volume-6-saga-collected-editions-6_924/index.html                                                                                                                               |\n",
            "| 77 | Saga, Volume 5 (Saga (Collected Editions) #5)                                                                                                                                   | Two      | £51.04  | http://books.toscrape.com/catalogue/saga-volume-5-saga-collected-editions-5_923/index.html                                                                                                                               |\n",
            "| 78 | Reskilling America: Learning to Labor in the Twenty-First Century                                                                                                               | Two      | £19.83  | http://books.toscrape.com/catalogue/reskilling-america-learning-to-labor-in-the-twenty-first-century_922/index.html                                                                                                      |\n",
            "| 79 | Rat Queens, Vol. 3: Demons (Rat Queens (Collected Editions) #11-15)                                                                                                             | Three    | £50.40  | http://books.toscrape.com/catalogue/rat-queens-vol-3-demons-rat-queens-collected-editions-11-15_921/index.html                                                                                                           |\n",
            "| 80 | Princess Jellyfish 2-in-1 Omnibus, Vol. 01 (Princess Jellyfish 2-in-1 Omnibus #1)                                                                                               | Five     | £13.61  | http://books.toscrape.com/catalogue/princess-jellyfish-2-in-1-omnibus-vol-01-princess-jellyfish-2-in-1-omnibus-1_920/index.html                                                                                          |\n",
            "| 81 | Princess Between Worlds (Wide-Awake Princess #5)                                                                                                                                | Five     | £13.34  | http://books.toscrape.com/catalogue/princess-between-worlds-wide-awake-princess-5_919/index.html                                                                                                                         |\n",
            "| 82 | Pop Gun War, Volume 1: Gift                                                                                                                                                     | One      | £18.97  | http://books.toscrape.com/catalogue/pop-gun-war-volume-1-gift_918/index.html                                                                                                                                             |\n",
            "| 83 | Political Suicide: Missteps, Peccadilloes, Bad Calls, Backroom Hijinx, Sordid Pasts, Rotten Breaks, and Just Plain Dumb Mistakes in the Annals of American Politics             | Two      | £36.28  | http://books.toscrape.com/catalogue/political-suicide-missteps-peccadilloes-bad-calls-backroom-hijinx-sordid-pasts-rotten-breaks-and-just-plain-dumb-mistakes-in-the-annals-of-american-politics_917/index.html          |\n",
            "| 84 | Patience                                                                                                                                                                        | Three    | £10.16  | http://books.toscrape.com/catalogue/patience_916/index.html                                                                                                                                                              |\n",
            "| 85 | Outcast, Vol. 1: A Darkness Surrounds Him (Outcast #1)                                                                                                                          | Four     | £15.44  | http://books.toscrape.com/catalogue/outcast-vol-1-a-darkness-surrounds-him-outcast-1_915/index.html                                                                                                                      |\n",
            "| 86 | orange: The Complete Collection 1 (orange: The Complete Collection #1)                                                                                                          | One      | £48.41  | http://books.toscrape.com/catalogue/orange-the-complete-collection-1-orange-the-complete-collection-1_914/index.html                                                                                                     |\n",
            "| 87 | Online Marketing for Busy Authors: A Step-By-Step Guide                                                                                                                         | One      | £46.35  | http://books.toscrape.com/catalogue/online-marketing-for-busy-authors-a-step-by-step-guide_913/index.html                                                                                                                |\n",
            "| 88 | On a Midnight Clear                                                                                                                                                             | Three    | £14.07  | http://books.toscrape.com/catalogue/on-a-midnight-clear_912/index.html                                                                                                                                                   |\n",
            "| 89 | Obsidian (Lux #1)                                                                                                                                                               | Two      | £14.86  | http://books.toscrape.com/catalogue/obsidian-lux-1_911/index.html                                                                                                                                                        |\n",
            "| 90 | My Paris Kitchen: Recipes and Stories                                                                                                                                           | Two      | £33.37  | http://books.toscrape.com/catalogue/my-paris-kitchen-recipes-and-stories_910/index.html                                                                                                                                  |\n",
            "| 91 | Masks and Shadows                                                                                                                                                               | Two      | £56.40  | http://books.toscrape.com/catalogue/masks-and-shadows_909/index.html                                                                                                                                                     |\n",
            "| 92 | Mama Tried: Traditional Italian Cooking for the Screwed, Crude, Vegan, and Tattooed                                                                                             | Four     | £14.02  | http://books.toscrape.com/catalogue/mama-tried-traditional-italian-cooking-for-the-screwed-crude-vegan-and-tattooed_908/index.html                                                                                       |\n",
            "| 93 | Lumberjanes, Vol. 2: Friendship to the Max (Lumberjanes #5-8)                                                                                                                   | Two      | £46.91  | http://books.toscrape.com/catalogue/lumberjanes-vol-2-friendship-to-the-max-lumberjanes-5-8_907/index.html                                                                                                               |\n",
            "| 94 | Lumberjanes, Vol. 1: Beware the Kitten Holy (Lumberjanes #1-4)                                                                                                                  | Three    | £45.61  | http://books.toscrape.com/catalogue/lumberjanes-vol-1-beware-the-kitten-holy-lumberjanes-1-4_906/index.html                                                                                                              |\n",
            "| 95 | Lumberjanes Vol. 3: A Terrible Plan (Lumberjanes #9-12)                                                                                                                         | Two      | £19.92  | http://books.toscrape.com/catalogue/lumberjanes-vol-3-a-terrible-plan-lumberjanes-9-12_905/index.html                                                                                                                    |\n",
            "| 96 | Layered: Baking, Building, and Styling Spectacular Cakes                                                                                                                        | One      | £40.11  | http://books.toscrape.com/catalogue/layered-baking-building-and-styling-spectacular-cakes_904/index.html                                                                                                                 |\n",
            "| 97 | Judo: Seven Steps to Black Belt (an Introductory Guide for Beginners)                                                                                                           | Two      | £53.90  | http://books.toscrape.com/catalogue/judo-seven-steps-to-black-belt-an-introductory-guide-for-beginners_903/index.html                                                                                                    |\n",
            "| 98 | Join                                                                                                                                                                            | Five     | £35.67  | http://books.toscrape.com/catalogue/join_902/index.html                                                                                                                                                                  |\n",
            "| 99 | In the Country We Love: My Family Divided                                                                                                                                       | Four     | £22.00  | http://books.toscrape.com/catalogue/in-the-country-we-love-my-family-divided_901/index.html                                                                                                                              |\n",
            "+----+---------------------------------------------------------------------------------------------------------------------------------------------------------------------------------+----------+---------+--------------------------------------------------------------------------------------------------------------------------------------------------------------------------------------------------------------------------+\n"
          ]
        }
      ]
    }
  ]
}