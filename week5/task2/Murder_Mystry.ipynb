{
  "nbformat": 4,
  "nbformat_minor": 0,
  "metadata": {
    "colab": {
      "provenance": [],
      "include_colab_link": true
    },
    "kernelspec": {
      "name": "python3",
      "display_name": "Python 3"
    },
    "language_info": {
      "name": "python"
    }
  },
  "cells": [
    {
      "cell_type": "markdown",
      "metadata": {
        "id": "view-in-github",
        "colab_type": "text"
      },
      "source": [
        "<a href=\"https://colab.research.google.com/github/sahithi0624/winter-internship/blob/main/week5/task2/Murder_Mystry.ipynb\" target=\"_parent\"><img src=\"https://colab.research.google.com/assets/colab-badge.svg\" alt=\"Open In Colab\"/></a>"
      ]
    },
    {
      "cell_type": "code",
      "execution_count": 8,
      "metadata": {
        "id": "rCxlFxpFjtci"
      },
      "outputs": [],
      "source": [
        "import pandas as pd\n",
        "import sqlite3 as sql"
      ]
    },
    {
      "cell_type": "code",
      "source": [
        "conn = sql.connect('/content/sql-murder-mystery.db')"
      ],
      "metadata": {
        "id": "7O14NJccj3Qd"
      },
      "execution_count": 9,
      "outputs": []
    },
    {
      "cell_type": "code",
      "source": [
        "print(conn)"
      ],
      "metadata": {
        "colab": {
          "base_uri": "https://localhost:8080/"
        },
        "id": "rcNtuv2pkapu",
        "outputId": "2d05abf0-e41b-4bf7-d9c8-ccfde6745f60"
      },
      "execution_count": 10,
      "outputs": [
        {
          "output_type": "stream",
          "name": "stdout",
          "text": [
            "<sqlite3.Connection object at 0x7c516c379240>\n"
          ]
        }
      ]
    },
    {
      "cell_type": "code",
      "source": [
        "query_1 = \"\"\"\n",
        "    SELECT *\n",
        "    FROM crime_scene_report\n",
        "    WHERE type = 'murder'\n",
        "    AND city = 'SQL City'\n",
        "    AND date = 20180115\n",
        "\"\"\"\n"
      ],
      "metadata": {
        "id": "1jM4nFJ1msMd"
      },
      "execution_count": 11,
      "outputs": []
    },
    {
      "cell_type": "code",
      "source": [
        "crime_rep_df = pd.read_sql_query(query_1, conn)\n",
        "print(crime_rep_df)"
      ],
      "metadata": {
        "colab": {
          "base_uri": "https://localhost:8080/"
        },
        "id": "YUBLVzj43C_q",
        "outputId": "b925d8c0-16ff-4ac2-e940-16062a227a72"
      },
      "execution_count": 12,
      "outputs": [
        {
          "output_type": "stream",
          "name": "stdout",
          "text": [
            "       date    type                                        description  \\\n",
            "0  20180115  murder  Security footage shows that there were 2 witne...   \n",
            "\n",
            "       city  \n",
            "0  SQL City  \n"
          ]
        }
      ]
    },
    {
      "cell_type": "code",
      "source": [
        "query_2 = '''\n",
        "SELECT *\n",
        "FROM Person\n",
        "WHERE address_street_name ='Northwestern Dr'\n",
        "ORDER BY address_number desc\n",
        "LIMIT 1\n",
        "'''"
      ],
      "metadata": {
        "id": "tMFwnZ2knra6"
      },
      "execution_count": 13,
      "outputs": []
    },
    {
      "cell_type": "code",
      "source": [
        "pd.read_sql_query(query_2, conn)[:1]"
      ],
      "metadata": {
        "id": "v7lkhGS1oKJx",
        "colab": {
          "base_uri": "https://localhost:8080/",
          "height": 81
        },
        "outputId": "f282a56b-e048-4624-c62c-1ad009caa006"
      },
      "execution_count": 14,
      "outputs": [
        {
          "output_type": "execute_result",
          "data": {
            "text/plain": [
              "      id            name  license_id  address_number address_street_name  \\\n",
              "0  14887  Morty Schapiro      118009            4919     Northwestern Dr   \n",
              "\n",
              "         ssn  \n",
              "0  111564949  "
            ],
            "text/html": [
              "\n",
              "  <div id=\"df-ef3ddbc0-c849-4974-ac30-2274bec0153d\" class=\"colab-df-container\">\n",
              "    <div>\n",
              "<style scoped>\n",
              "    .dataframe tbody tr th:only-of-type {\n",
              "        vertical-align: middle;\n",
              "    }\n",
              "\n",
              "    .dataframe tbody tr th {\n",
              "        vertical-align: top;\n",
              "    }\n",
              "\n",
              "    .dataframe thead th {\n",
              "        text-align: right;\n",
              "    }\n",
              "</style>\n",
              "<table border=\"1\" class=\"dataframe\">\n",
              "  <thead>\n",
              "    <tr style=\"text-align: right;\">\n",
              "      <th></th>\n",
              "      <th>id</th>\n",
              "      <th>name</th>\n",
              "      <th>license_id</th>\n",
              "      <th>address_number</th>\n",
              "      <th>address_street_name</th>\n",
              "      <th>ssn</th>\n",
              "    </tr>\n",
              "  </thead>\n",
              "  <tbody>\n",
              "    <tr>\n",
              "      <th>0</th>\n",
              "      <td>14887</td>\n",
              "      <td>Morty Schapiro</td>\n",
              "      <td>118009</td>\n",
              "      <td>4919</td>\n",
              "      <td>Northwestern Dr</td>\n",
              "      <td>111564949</td>\n",
              "    </tr>\n",
              "  </tbody>\n",
              "</table>\n",
              "</div>\n",
              "    <div class=\"colab-df-buttons\">\n",
              "\n",
              "  <div class=\"colab-df-container\">\n",
              "    <button class=\"colab-df-convert\" onclick=\"convertToInteractive('df-ef3ddbc0-c849-4974-ac30-2274bec0153d')\"\n",
              "            title=\"Convert this dataframe to an interactive table.\"\n",
              "            style=\"display:none;\">\n",
              "\n",
              "  <svg xmlns=\"http://www.w3.org/2000/svg\" height=\"24px\" viewBox=\"0 -960 960 960\">\n",
              "    <path d=\"M120-120v-720h720v720H120Zm60-500h600v-160H180v160Zm220 220h160v-160H400v160Zm0 220h160v-160H400v160ZM180-400h160v-160H180v160Zm440 0h160v-160H620v160ZM180-180h160v-160H180v160Zm440 0h160v-160H620v160Z\"/>\n",
              "  </svg>\n",
              "    </button>\n",
              "\n",
              "  <style>\n",
              "    .colab-df-container {\n",
              "      display:flex;\n",
              "      gap: 12px;\n",
              "    }\n",
              "\n",
              "    .colab-df-convert {\n",
              "      background-color: #E8F0FE;\n",
              "      border: none;\n",
              "      border-radius: 50%;\n",
              "      cursor: pointer;\n",
              "      display: none;\n",
              "      fill: #1967D2;\n",
              "      height: 32px;\n",
              "      padding: 0 0 0 0;\n",
              "      width: 32px;\n",
              "    }\n",
              "\n",
              "    .colab-df-convert:hover {\n",
              "      background-color: #E2EBFA;\n",
              "      box-shadow: 0px 1px 2px rgba(60, 64, 67, 0.3), 0px 1px 3px 1px rgba(60, 64, 67, 0.15);\n",
              "      fill: #174EA6;\n",
              "    }\n",
              "\n",
              "    .colab-df-buttons div {\n",
              "      margin-bottom: 4px;\n",
              "    }\n",
              "\n",
              "    [theme=dark] .colab-df-convert {\n",
              "      background-color: #3B4455;\n",
              "      fill: #D2E3FC;\n",
              "    }\n",
              "\n",
              "    [theme=dark] .colab-df-convert:hover {\n",
              "      background-color: #434B5C;\n",
              "      box-shadow: 0px 1px 3px 1px rgba(0, 0, 0, 0.15);\n",
              "      filter: drop-shadow(0px 1px 2px rgba(0, 0, 0, 0.3));\n",
              "      fill: #FFFFFF;\n",
              "    }\n",
              "  </style>\n",
              "\n",
              "    <script>\n",
              "      const buttonEl =\n",
              "        document.querySelector('#df-ef3ddbc0-c849-4974-ac30-2274bec0153d button.colab-df-convert');\n",
              "      buttonEl.style.display =\n",
              "        google.colab.kernel.accessAllowed ? 'block' : 'none';\n",
              "\n",
              "      async function convertToInteractive(key) {\n",
              "        const element = document.querySelector('#df-ef3ddbc0-c849-4974-ac30-2274bec0153d');\n",
              "        const dataTable =\n",
              "          await google.colab.kernel.invokeFunction('convertToInteractive',\n",
              "                                                    [key], {});\n",
              "        if (!dataTable) return;\n",
              "\n",
              "        const docLinkHtml = 'Like what you see? Visit the ' +\n",
              "          '<a target=\"_blank\" href=https://colab.research.google.com/notebooks/data_table.ipynb>data table notebook</a>'\n",
              "          + ' to learn more about interactive tables.';\n",
              "        element.innerHTML = '';\n",
              "        dataTable['output_type'] = 'display_data';\n",
              "        await google.colab.output.renderOutput(dataTable, element);\n",
              "        const docLink = document.createElement('div');\n",
              "        docLink.innerHTML = docLinkHtml;\n",
              "        element.appendChild(docLink);\n",
              "      }\n",
              "    </script>\n",
              "  </div>\n",
              "\n",
              "\n",
              "    </div>\n",
              "  </div>\n"
            ]
          },
          "metadata": {},
          "execution_count": 14
        }
      ]
    },
    {
      "cell_type": "code",
      "source": [
        "result_df = pd.read_sql_query(query_2, conn)\n",
        "print(result_df)"
      ],
      "metadata": {
        "id": "nxU_H9d62265",
        "colab": {
          "base_uri": "https://localhost:8080/"
        },
        "outputId": "1c4fa8c9-e676-43e3-a746-ddae0232c644"
      },
      "execution_count": 15,
      "outputs": [
        {
          "output_type": "stream",
          "name": "stdout",
          "text": [
            "      id            name  license_id  address_number address_street_name  \\\n",
            "0  14887  Morty Schapiro      118009            4919     Northwestern Dr   \n",
            "\n",
            "         ssn  \n",
            "0  111564949  \n"
          ]
        }
      ]
    },
    {
      "cell_type": "code",
      "source": [
        "query_3 = '''\n",
        "SELECT *\n",
        "FROM interview\n",
        "WHERE person_id IN (14887, 16371)\n",
        "'''"
      ],
      "metadata": {
        "id": "EbT8z45oozB-"
      },
      "execution_count": 16,
      "outputs": []
    },
    {
      "cell_type": "code",
      "source": [
        "interview_df = pd.read_sql_query(query_3, conn)\n",
        "print(interview_df)"
      ],
      "metadata": {
        "id": "7URFUT6M3j69",
        "colab": {
          "base_uri": "https://localhost:8080/"
        },
        "outputId": "6a19d974-3b96-4fa6-bbf9-271b737258fe"
      },
      "execution_count": 17,
      "outputs": [
        {
          "output_type": "stream",
          "name": "stdout",
          "text": [
            "   person_id                                         transcript\n",
            "0      14887  I heard a gunshot and then saw a man run out. ...\n",
            "1      16371  I saw the murder happen, and I recognized the ...\n"
          ]
        }
      ]
    },
    {
      "cell_type": "code",
      "source": [
        "query_4 = '''\n",
        "  SELECT p.*, gfn.membership_start_date, gfn.membership_status\n",
        "    FROM person AS p\n",
        "    INNER JOIN drivers_license AS dl ON dl.id = p.license_id\n",
        "    INNER JOIN get_fit_now_member AS gfn ON p.id = gfn.person_id\n",
        "    INNER JOIN get_fit_now_check_in AS gfc ON gfc.membership_id = gfn.id\n",
        "    WHERE plate_number LIKE '%H42W%'\n",
        "    AND gender = 'male'\n",
        "    AND membership_status = 'gold'\n",
        "    AND gfn.id LIKE '48Z%'\n",
        "    AND check_in_date = 20180109\n",
        "'''"
      ],
      "metadata": {
        "id": "hWO2f7aOo5RM"
      },
      "execution_count": 18,
      "outputs": []
    },
    {
      "cell_type": "code",
      "source": [
        "result_df = pd.read_sql_query(query_4, conn)\n",
        "print(result_df)"
      ],
      "metadata": {
        "id": "8EwMEKWK5Fbz",
        "colab": {
          "base_uri": "https://localhost:8080/"
        },
        "outputId": "04224f94-6e5c-4a51-ab16-738114293d00"
      },
      "execution_count": 19,
      "outputs": [
        {
          "output_type": "stream",
          "name": "stdout",
          "text": [
            "      id           name  license_id  address_number    address_street_name  \\\n",
            "0  67318  Jeremy Bowers      423327             530  Washington Pl, Apt 3A   \n",
            "\n",
            "         ssn  membership_start_date membership_status  \n",
            "0  871539279               20160101              gold  \n"
          ]
        }
      ]
    },
    {
      "cell_type": "code",
      "source": [
        "query_5 = '''\n",
        "    SELECT *\n",
        "    FROM drivers_license\n",
        "    WHERE plate_number = '0H42W2'\n",
        "'''"
      ],
      "metadata": {
        "id": "66GC0SN55yPK"
      },
      "execution_count": 20,
      "outputs": []
    },
    {
      "cell_type": "code",
      "source": [
        "result_df = pd.read_sql_query(query_5, conn)\n",
        "print(result_df)"
      ],
      "metadata": {
        "id": "f92o2ma454QZ",
        "colab": {
          "base_uri": "https://localhost:8080/"
        },
        "outputId": "9b9297e3-f8f0-4a7e-84f0-0894666c3a73"
      },
      "execution_count": 21,
      "outputs": [
        {
          "output_type": "stream",
          "name": "stdout",
          "text": [
            "       id  age  height eye_color hair_color gender plate_number   car_make  \\\n",
            "0  423327   30      70     brown      brown   male       0H42W2  Chevrolet   \n",
            "\n",
            "  car_model  \n",
            "0  Spark LS  \n"
          ]
        }
      ]
    },
    {
      "cell_type": "code",
      "source": [
        "query_6 ='''\n",
        "    SELECT *\n",
        "    FROM person\n",
        "    WHERE license_id = '423327'\n",
        "'''"
      ],
      "metadata": {
        "id": "WAzR4QAl6A5V"
      },
      "execution_count": 22,
      "outputs": []
    },
    {
      "cell_type": "code",
      "source": [
        "result_df = pd.read_sql_query(query_6, conn)\n",
        "print(result_df)"
      ],
      "metadata": {
        "id": "RfyZRbXN6EZ-",
        "colab": {
          "base_uri": "https://localhost:8080/"
        },
        "outputId": "beab64d7-1f89-44c5-cca8-7f6abe88818d"
      },
      "execution_count": 23,
      "outputs": [
        {
          "output_type": "stream",
          "name": "stdout",
          "text": [
            "      id           name  license_id  address_number    address_street_name  \\\n",
            "0  67318  Jeremy Bowers      423327             530  Washington Pl, Apt 3A   \n",
            "\n",
            "         ssn  \n",
            "0  871539279  \n"
          ]
        }
      ]
    },
    {
      "cell_type": "code",
      "source": [
        "query_7 = '''\n",
        "    SELECT p.name, p.id AS person_id, gfn.membership_status\n",
        "    FROM person AS p\n",
        "    INNER JOIN get_fit_now_member AS gfn ON p.id = gfn.person_id\n",
        "    WHERE p.license_id = '423327'\n",
        "'''"
      ],
      "metadata": {
        "id": "p5_f5LCA6MHo"
      },
      "execution_count": 24,
      "outputs": []
    },
    {
      "cell_type": "code",
      "source": [
        "result_df_7 = pd.read_sql_query(query_7, conn)\n",
        "print(result_df_7)"
      ],
      "metadata": {
        "id": "YyMynxnu6Pot",
        "colab": {
          "base_uri": "https://localhost:8080/"
        },
        "outputId": "0b516f0c-c752-4e1c-ac94-a42496add97a"
      },
      "execution_count": 25,
      "outputs": [
        {
          "output_type": "stream",
          "name": "stdout",
          "text": [
            "            name  person_id membership_status\n",
            "0  Jeremy Bowers      67318              gold\n"
          ]
        }
      ]
    },
    {
      "cell_type": "code",
      "source": [
        "query='''\n",
        "SELECT *\n",
        "FROM interview\n",
        "WHERE person_id = 67318\n",
        "'''"
      ],
      "metadata": {
        "id": "_1O4IYbg6Vs6"
      },
      "execution_count": 26,
      "outputs": []
    },
    {
      "cell_type": "code",
      "source": [
        "result_df_7 = pd.read_sql_query(query, conn)\n",
        "print(result_df_7)"
      ],
      "metadata": {
        "id": "aEGoF4aF6Y60",
        "colab": {
          "base_uri": "https://localhost:8080/"
        },
        "outputId": "68c8eb74-e34c-478d-aa3b-e26fa9a44ea9"
      },
      "execution_count": 27,
      "outputs": [
        {
          "output_type": "stream",
          "name": "stdout",
          "text": [
            "   person_id                                         transcript\n",
            "0      67318  I was hired by a woman with a lot of money. I ...\n"
          ]
        }
      ]
    },
    {
      "cell_type": "markdown",
      "source": [
        "Finally, based on the available evidence, there is no conclusive indication that Jeremy Bowers is the murderer and there is aloso no indication that Miranda Priestly is the murderer. To conclude the case further investigation is required."
      ],
      "metadata": {
        "id": "_-HI8Tvl6e-T"
      }
    }
  ]
}